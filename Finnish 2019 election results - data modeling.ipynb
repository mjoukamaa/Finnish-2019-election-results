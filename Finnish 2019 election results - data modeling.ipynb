{
 "cells": [
  {
   "cell_type": "markdown",
   "metadata": {},
   "source": [
    "# Modeling of the Finnish 2019 election results data\n",
    "\n",
    "This notebook is for training different machine learning algorithms on the data from the Finnish 2019 general elections. The output variable is the vote total per candidate and the input variables are different background features found in the data. (For more details, see the notebook about wrangling the said data.)\n",
    "\n",
    "The main purpose of this exercise is to get some hands-on experience with the algorithms being tested on the data. In addition to that, I am naturally also curious to see if a machine learning model that predicts the vote totals reasonably well from the background variables can be found."
   ]
  },
  {
   "cell_type": "code",
   "execution_count": null,
   "metadata": {
    "collapsed": true
   },
   "outputs": [],
   "source": [
    "# Importing the necessary libraries\n",
    "\n",
    "import numpy as np\n",
    "import pandas as pd\n",
    "\n",
    "from sklearn.model_selection import train_test_split"
   ]
  },
  {
   "cell_type": "markdown",
   "metadata": {},
   "source": [
    "Before any modeling can be done, it is of course necessary to load the data and split it into the training and testing samples. In the interests of making my results replicable, I am doing the splitting with a set random seed."
   ]
  },
  {
   "cell_type": "code",
   "execution_count": null,
   "metadata": {},
   "outputs": [],
   "source": [
    "# Reading the data from the .csv file into a dataframe\n",
    "data = pd.read_csv('election_data.csv')\n",
    "\n",
    "# Checking the data frame\n",
    "data.head()"
   ]
  },
  {
   "cell_type": "code",
   "execution_count": null,
   "metadata": {},
   "outputs": [],
   "source": [
    "# Splitting the data\n",
    "train_data, test_data, train_votes, test_votes = train_test_split(\n",
    "    data.iloc[:,:5], data.iloc[:, 5:], test_size = 0.2, random_state = 17)\n",
    "\n",
    "# Checking the split data\n",
    "for item in [train_data, test_data, train_votes, test_votes]:\n",
    "    print(item.info())\n",
    "    print(item.head(), '\\n')"
   ]
  }
 ],
 "metadata": {
  "kernelspec": {
   "display_name": "Python [default]",
   "language": "python",
   "name": "python3"
  },
  "language_info": {
   "codemirror_mode": {
    "name": "ipython",
    "version": 3
   },
   "file_extension": ".py",
   "mimetype": "text/x-python",
   "name": "python",
   "nbconvert_exporter": "python",
   "pygments_lexer": "ipython3",
   "version": "3.6.3"
  }
 },
 "nbformat": 4,
 "nbformat_minor": 2
}
