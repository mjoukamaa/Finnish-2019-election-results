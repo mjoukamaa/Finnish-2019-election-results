{
 "cells": [
  {
   "cell_type": "markdown",
   "metadata": {},
   "source": [
    "# Modeling of the Finnish 2019 election results data\n",
    "\n",
    "This notebook is for training different machine learning algorithms on the data from the Finnish 2019 general elections. The output variable is the vote total per candidate and the input variables are different background features found in the data. (For more details, see the notebook about wrangling the said data.)\n",
    "\n",
    "The main purpose of this exercise is to get some hands-on experience with the algorithms being tested on the data. In addition to that, I am naturally also curious to see if a machine learning model that predicts the vote totals reasonably well from the background variables can be found."
   ]
  },
  {
   "cell_type": "code",
   "execution_count": 1,
   "metadata": {
    "collapsed": true
   },
   "outputs": [],
   "source": [
    "# Importing the necessary libraries\n",
    "\n",
    "import numpy as np\n",
    "import pandas as pd\n",
    "\n",
    "from sklearn.model_selection import train_test_split\n",
    "from sklearn.linear_model import LinearRegression\n",
    "from sklearn import metrics"
   ]
  },
  {
   "cell_type": "markdown",
   "metadata": {},
   "source": [
    "Before any modeling can be done, it is of course necessary to load the data and split it into the training and testing samples. In the interests of making my results replicable, I am doing the splitting with a set random seed."
   ]
  },
  {
   "cell_type": "code",
   "execution_count": 2,
   "metadata": {},
   "outputs": [
    {
     "data": {
      "text/html": [
       "<div>\n",
       "<style scoped>\n",
       "    .dataframe tbody tr th:only-of-type {\n",
       "        vertical-align: middle;\n",
       "    }\n",
       "\n",
       "    .dataframe tbody tr th {\n",
       "        vertical-align: top;\n",
       "    }\n",
       "\n",
       "    .dataframe thead th {\n",
       "        text-align: right;\n",
       "    }\n",
       "</style>\n",
       "<table border=\"1\" class=\"dataframe\">\n",
       "  <thead>\n",
       "    <tr style=\"text-align: right;\">\n",
       "      <th></th>\n",
       "      <th>gender</th>\n",
       "      <th>age</th>\n",
       "      <th>euro</th>\n",
       "      <th>parl</th>\n",
       "      <th>council</th>\n",
       "      <th>votes</th>\n",
       "    </tr>\n",
       "  </thead>\n",
       "  <tbody>\n",
       "    <tr>\n",
       "      <th>0</th>\n",
       "      <td>0.0</td>\n",
       "      <td>0.435294</td>\n",
       "      <td>0.0</td>\n",
       "      <td>0.0</td>\n",
       "      <td>0.0</td>\n",
       "      <td>1073</td>\n",
       "    </tr>\n",
       "    <tr>\n",
       "      <th>1</th>\n",
       "      <td>0.0</td>\n",
       "      <td>0.682353</td>\n",
       "      <td>0.0</td>\n",
       "      <td>0.0</td>\n",
       "      <td>1.0</td>\n",
       "      <td>236</td>\n",
       "    </tr>\n",
       "    <tr>\n",
       "      <th>2</th>\n",
       "      <td>0.0</td>\n",
       "      <td>0.705882</td>\n",
       "      <td>0.0</td>\n",
       "      <td>0.0</td>\n",
       "      <td>0.0</td>\n",
       "      <td>249</td>\n",
       "    </tr>\n",
       "    <tr>\n",
       "      <th>3</th>\n",
       "      <td>0.0</td>\n",
       "      <td>0.717647</td>\n",
       "      <td>0.0</td>\n",
       "      <td>0.0</td>\n",
       "      <td>0.0</td>\n",
       "      <td>48</td>\n",
       "    </tr>\n",
       "    <tr>\n",
       "      <th>4</th>\n",
       "      <td>0.0</td>\n",
       "      <td>0.647059</td>\n",
       "      <td>0.0</td>\n",
       "      <td>0.0</td>\n",
       "      <td>1.0</td>\n",
       "      <td>746</td>\n",
       "    </tr>\n",
       "  </tbody>\n",
       "</table>\n",
       "</div>"
      ],
      "text/plain": [
       "   gender       age  euro  parl  council  votes\n",
       "0     0.0  0.435294   0.0   0.0      0.0   1073\n",
       "1     0.0  0.682353   0.0   0.0      1.0    236\n",
       "2     0.0  0.705882   0.0   0.0      0.0    249\n",
       "3     0.0  0.717647   0.0   0.0      0.0     48\n",
       "4     0.0  0.647059   0.0   0.0      1.0    746"
      ]
     },
     "execution_count": 2,
     "metadata": {},
     "output_type": "execute_result"
    }
   ],
   "source": [
    "# Reading the data from the .csv file into a dataframe\n",
    "data = pd.read_csv('election_data.csv')\n",
    "\n",
    "# Checking the data frame\n",
    "data.head()"
   ]
  },
  {
   "cell_type": "code",
   "execution_count": 3,
   "metadata": {},
   "outputs": [
    {
     "name": "stdout",
     "output_type": "stream",
     "text": [
      "<class 'pandas.core.frame.DataFrame'>\n",
      "Int64Index: 1974 entries, 1021 to 2191\n",
      "Data columns (total 5 columns):\n",
      "gender     1974 non-null float64\n",
      "age        1974 non-null float64\n",
      "euro       1974 non-null float64\n",
      "parl       1974 non-null float64\n",
      "council    1974 non-null float64\n",
      "dtypes: float64(5)\n",
      "memory usage: 92.5 KB\n",
      "None\n",
      "      gender       age  euro  parl  council\n",
      "1021     1.0  0.458824   0.0   1.0      1.0\n",
      "350      0.0  0.717647   0.0   0.0      1.0\n",
      "496      1.0  0.458824   0.0   0.0      0.0\n",
      "1160     1.0  0.776471   0.0   0.0      0.0\n",
      "1142     0.0  0.376471   0.0   0.0      1.0 \n",
      "\n",
      "<class 'pandas.core.frame.DataFrame'>\n",
      "Int64Index: 494 entries, 2081 to 819\n",
      "Data columns (total 5 columns):\n",
      "gender     494 non-null float64\n",
      "age        494 non-null float64\n",
      "euro       494 non-null float64\n",
      "parl       494 non-null float64\n",
      "council    494 non-null float64\n",
      "dtypes: float64(5)\n",
      "memory usage: 23.2 KB\n",
      "None\n",
      "      gender       age  euro  parl  council\n",
      "2081     1.0  0.400000   0.0   0.0      1.0\n",
      "192      0.0  0.423529   0.0   0.0      0.0\n",
      "1584     0.0  0.564706   0.0   0.0      0.0\n",
      "2027     0.0  0.517647   0.0   0.0      0.0\n",
      "2313     0.0  0.317647   0.0   0.0      0.0 \n",
      "\n",
      "<class 'pandas.core.frame.DataFrame'>\n",
      "Int64Index: 1974 entries, 1021 to 2191\n",
      "Data columns (total 1 columns):\n",
      "votes    1974 non-null int64\n",
      "dtypes: int64(1)\n",
      "memory usage: 30.8 KB\n",
      "None\n",
      "      votes\n",
      "1021   4145\n",
      "350     191\n",
      "496     173\n",
      "1160      7\n",
      "1142    453 \n",
      "\n",
      "<class 'pandas.core.frame.DataFrame'>\n",
      "Int64Index: 494 entries, 2081 to 819\n",
      "Data columns (total 1 columns):\n",
      "votes    494 non-null int64\n",
      "dtypes: int64(1)\n",
      "memory usage: 7.7 KB\n",
      "None\n",
      "      votes\n",
      "2081   3461\n",
      "192      64\n",
      "1584     87\n",
      "2027    226\n",
      "2313    545 \n",
      "\n"
     ]
    }
   ],
   "source": [
    "# Splitting the data\n",
    "train_data, test_data, train_votes, test_votes = train_test_split(\n",
    "    data.iloc[:,:5], data.iloc[:, 5:], test_size = 0.2, random_state = 17)\n",
    "\n",
    "# Checking the split data\n",
    "for item in [train_data, test_data, train_votes, test_votes]:\n",
    "    print(item.info())\n",
    "    print(item.head(), '\\n')"
   ]
  },
  {
   "cell_type": "markdown",
   "metadata": {},
   "source": [
    "The different checks done on the loaded and split data don't show any problems, so the next step is move on to the actual modeling. The first type of machine learning model that I am applying here is linear regression. It is a natural starting point since the background attributes of the candidates (age, gender, incumbency in different posts) could be easily perceived as having cumulative effects on the vote totals accumulated by them."
   ]
  },
  {
   "cell_type": "code",
   "execution_count": 4,
   "metadata": {},
   "outputs": [
    {
     "data": {
      "text/plain": [
       "LinearRegression(copy_X=True, fit_intercept=True, n_jobs=None, normalize=False)"
      ]
     },
     "execution_count": 4,
     "metadata": {},
     "output_type": "execute_result"
    }
   ],
   "source": [
    "# Create the model and fit it to the training data\n",
    "regression = LinearRegression()\n",
    "regression.fit(train_data, train_votes)"
   ]
  },
  {
   "cell_type": "markdown",
   "metadata": {},
   "source": [
    "Before evaluating how well the above model predicts the vote totals, I am curious to see what kind of relationships it posits between the background variables and the vote totals. To find out that, I am printing the model's coefficients."
   ]
  },
  {
   "cell_type": "code",
   "execution_count": 5,
   "metadata": {},
   "outputs": [
    {
     "name": "stdout",
     "output_type": "stream",
     "text": [
      "Regression model coefficients: [('gender', 173.47209865915841), ('age', -1221.558774070455), ('euro', 17251.504084596687), ('parl', 5278.3568495857526), ('council', 1088.3067378854057)]\n"
     ]
    }
   ],
   "source": [
    "# Printing the model coefficients\n",
    "print(\"Regression model coefficients: {}\".format(list(zip(list(train_data.columns.values), regression.coef_[0]))))"
   ]
  },
  {
   "cell_type": "markdown",
   "metadata": {},
   "source": [
    "Looking at the coefficients, it seems that female candidates tend to get slightly more votes than male ones, while older candidates get less than votes than the young. Candidates that hold a seat in the European parlament, the Finnish parlament or a local council also tend to get more votes than those who don't.\n",
    "\n",
    "Of course, more important than what kind of relationship the background variables have with the vote totals is how well the model predicts the totals from the background variables. Thus, the next step is to use the test portion of the data to make these predictions, and to calculate from the predictions a couple of suitable metrics that show how far off the predictions are from the actual vote totals observed in the test data."
   ]
  },
  {
   "cell_type": "code",
   "execution_count": 6,
   "metadata": {},
   "outputs": [
    {
     "name": "stdout",
     "output_type": "stream",
     "text": [
      "Root mean square error: 1417.99755237\n",
      "Maximum error: 11742.3960113\n",
      "Explained variance: 0.52650308842\n"
     ]
    }
   ],
   "source": [
    "# Using the model to predict vote totals from the test data\n",
    "regr_pred_votes = regression.predict(test_data)\n",
    "\n",
    "# Printing the evaluation metrics\n",
    "print(\"Root mean square error:\", np.sqrt(metrics.mean_squared_error(test_votes, regr_pred_votes)))\n",
    "print(\"Maximum error:\", metrics.max_error(test_votes, regr_pred_votes))\n",
    "print(\"Explained variance:\", metrics.explained_variance_score(test_votes, regr_pred_votes))"
   ]
  }
 ],
 "metadata": {
  "kernelspec": {
   "display_name": "Python [default]",
   "language": "python",
   "name": "python3"
  },
  "language_info": {
   "codemirror_mode": {
    "name": "ipython",
    "version": 3
   },
   "file_extension": ".py",
   "mimetype": "text/x-python",
   "name": "python",
   "nbconvert_exporter": "python",
   "pygments_lexer": "ipython3",
   "version": "3.6.3"
  }
 },
 "nbformat": 4,
 "nbformat_minor": 2
}
